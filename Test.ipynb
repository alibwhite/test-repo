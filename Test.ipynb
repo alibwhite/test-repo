{
 "cells": [
  {
   "cell_type": "code",
   "execution_count": null,
   "id": "80e8af2f-cfd9-4c94-8ce8-a8cdfd8b925f",
   "metadata": {},
   "outputs": [],
   "source": [
    "#Everyone edit the next line and push to the main:"
   ]
  }
 ],
 "metadata": {
  "kernelspec": {
   "display_name": "Python 3",
   "language": "python",
   "name": "python3"
  },
  "language_info": {
   "codemirror_mode": {
    "name": "ipython",
    "version": 3
   },
   "file_extension": ".py",
   "mimetype": "text/x-python",
   "name": "python",
   "nbconvert_exporter": "python",
   "pygments_lexer": "ipython3",
   "version": "3.8.8"
  }
 },
 "nbformat": 4,
 "nbformat_minor": 5
}
